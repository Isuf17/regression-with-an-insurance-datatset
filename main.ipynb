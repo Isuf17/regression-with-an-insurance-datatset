{
 "cells": [
  {
   "cell_type": "markdown",
   "id": "bbf764a0",
   "metadata": {
    "papermill": {
     "duration": 0.002414,
     "end_time": "2024-12-17T12:44:24.729749",
     "exception": false,
     "start_time": "2024-12-17T12:44:24.727335",
     "status": "completed"
    },
    "tags": []
   },
   "source": [
    "# Relevant Libraries"
   ]
  },
  {
   "cell_type": "code",
   "execution_count": null,
   "id": "d0813899",
   "metadata": {
    "papermill": {
     "duration": 0.001412,
     "end_time": "2024-12-17T12:44:24.733884",
     "exception": false,
     "start_time": "2024-12-17T12:44:24.732472",
     "status": "completed"
    },
    "tags": []
   },
   "outputs": [],
   "source": []
  },
  {
   "cell_type": "markdown",
   "id": "0024643b",
   "metadata": {
    "papermill": {
     "duration": 0.001372,
     "end_time": "2024-12-17T12:44:24.736941",
     "exception": false,
     "start_time": "2024-12-17T12:44:24.735569",
     "status": "completed"
    },
    "tags": []
   },
   "source": [
    "# Load in data"
   ]
  },
  {
   "cell_type": "code",
   "execution_count": 1,
   "id": "fc8fe71a",
   "metadata": {
    "_cell_guid": "b1076dfc-b9ad-4769-8c92-a6c4dae69d19",
    "_uuid": "8f2839f25d086af736a60e9eeb907d3b93b6e0e5",
    "execution": {
     "iopub.execute_input": "2024-12-17T12:44:24.741559Z",
     "iopub.status.busy": "2024-12-17T12:44:24.741144Z",
     "iopub.status.idle": "2024-12-17T12:44:36.774076Z",
     "shell.execute_reply": "2024-12-17T12:44:36.772767Z"
    },
    "papermill": {
     "duration": 12.038849,
     "end_time": "2024-12-17T12:44:36.777264",
     "exception": false,
     "start_time": "2024-12-17T12:44:24.738415",
     "status": "completed"
    },
    "tags": []
   },
   "outputs": [
    {
     "name": "stdout",
     "output_type": "stream",
     "text": [
      "/kaggle/input/playground-series-s4e12/sample_submission.csv\n",
      "/kaggle/input/playground-series-s4e12/train.csv\n",
      "/kaggle/input/playground-series-s4e12/test.csv\n"
     ]
    }
   ],
   "source": [
    "import numpy as np # linear algebra\n",
    "import pandas as pd # data processing, CSV file I/O (e.g. pd.read_csv)\n",
    "\n",
    "\n",
    "import os\n",
    "for dirname, _, filenames in os.walk('/kaggle/input'):\n",
    "    for filename in filenames:\n",
    "        print(os.path.join(dirname, filename))\n",
    "\n",
    "df_train = pd.read_csv('/kaggle/input/playground-series-s4e12/train.csv')\n",
    "df_test = pd.read_csv('/kaggle/input/playground-series-s4e12/test.csv')\n",
    "df_submission = pd.read_csv('/kaggle/input/playground-series-s4e12/sample_submission.csv')"
   ]
  }
 ],
 "metadata": {
  "kaggle": {
   "accelerator": "none",
   "dataSources": [
    {
     "databundleVersionId": 10305135,
     "sourceId": 84896,
     "sourceType": "competition"
    }
   ],
   "dockerImageVersionId": 30804,
   "isGpuEnabled": false,
   "isInternetEnabled": true,
   "language": "python",
   "sourceType": "notebook"
  },
  "kernelspec": {
   "display_name": "Python 3",
   "language": "python",
   "name": "python3"
  },
  "language_info": {
   "codemirror_mode": {
    "name": "ipython",
    "version": 3
   },
   "file_extension": ".py",
   "mimetype": "text/x-python",
   "name": "python",
   "nbconvert_exporter": "python",
   "pygments_lexer": "ipython3",
   "version": "3.10.14"
  },
  "papermill": {
   "default_parameters": {},
   "duration": 15.373666,
   "end_time": "2024-12-17T12:44:37.402224",
   "environment_variables": {},
   "exception": null,
   "input_path": "__notebook__.ipynb",
   "output_path": "__notebook__.ipynb",
   "parameters": {},
   "start_time": "2024-12-17T12:44:22.028558",
   "version": "2.6.0"
  }
 },
 "nbformat": 4,
 "nbformat_minor": 5
}
